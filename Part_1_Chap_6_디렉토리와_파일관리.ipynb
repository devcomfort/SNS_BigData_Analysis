{
  "cells": [
    {
      "cell_type": "markdown",
      "metadata": {
        "id": "view-in-github",
        "colab_type": "text"
      },
      "source": [
        "<a href=\"https://colab.research.google.com/github/smpark85/SNS_BigData_Analysis/blob/main/Part_1_Chap_6_%EB%94%94%EB%A0%89%ED%86%A0%EB%A6%AC%EC%99%80_%ED%8C%8C%EC%9D%BC%EA%B4%80%EB%A6%AC.ipynb\" target=\"_parent\"><img src=\"https://colab.research.google.com/assets/colab-badge.svg\" alt=\"Open In Colab\"/></a>"
      ]
    },
    {
      "cell_type": "code",
      "execution_count": null,
      "metadata": {
        "id": "6w69f4rIiUJ6",
        "outputId": "98c3a751-06cb-427b-be30-2443550a839b"
      },
      "outputs": [
        {
          "name": "stdout",
          "output_type": "stream",
          "text": [
            "현재 디렉토리: c:\\temp\n",
            "이동 후 디렉토리: c:\\temp\n"
          ]
        }
      ],
      "source": [
        "#getcwd( ) 와 chdir()\n",
        "\n",
        "import os\n",
        "\n",
        "print('현재 디렉토리:' , os.getcwd() )\n",
        "os.chdir(\"c:\\\\temp\")\n",
        "print('이동 후 디렉토리:' , os.getcwd() )"
      ]
    },
    {
      "cell_type": "code",
      "execution_count": null,
      "metadata": {
        "id": "hVY_7lhTiUJ9",
        "outputId": "a22751b6-cbc4-436e-8734-17435cafcd95"
      },
      "outputs": [
        {
          "data": {
            "text/plain": [
              "['ex_2.py', 'ex_3.py', '__pycache__']"
            ]
          },
          "execution_count": 5,
          "metadata": {},
          "output_type": "execute_result"
        }
      ],
      "source": [
        "# listdir( ) 함수 - 지정된 폴더내의 파일과 폴더의 목록을 출력하는 함수\n",
        "\n",
        "os.listdir(\"c:\\\\py_module\")"
      ]
    },
    {
      "cell_type": "code",
      "execution_count": null,
      "metadata": {
        "id": "hJCtkROciUJ-"
      },
      "outputs": [],
      "source": [
        "# listdir( ) 함수 - 지정된 폴더내의 파일과 폴더의 목록을 출력하는 함수\n",
        "\n",
        "for i in os.listdir(\"c:\\\\py_module\") :\n",
        "    print(i)\n",
        "    \n",
        "    "
      ]
    },
    {
      "cell_type": "code",
      "execution_count": null,
      "metadata": {
        "id": "w21SIJFqiUJ-",
        "outputId": "5a81a3a7-cf90-46ca-9ece-37291112d23e"
      },
      "outputs": [
        {
          "name": "stdout",
          "output_type": "stream",
          "text": [
            "True\n",
            "False\n"
          ]
        }
      ],
      "source": [
        "#os.path.exists( ) 함수 - 특정 폴더의 존재 여부 확인\n",
        "\n",
        "print( os.path.exists(\"c:\\\\py_temp\") )\n",
        "\n",
        "print( os.path.exists(\"c:\\temp100\") )"
      ]
    },
    {
      "cell_type": "code",
      "execution_count": null,
      "metadata": {
        "id": "9BNpSDzgiUJ_",
        "outputId": "0d550330-4ff0-4c00-cdba-e7779b40f4e7"
      },
      "outputs": [
        {
          "ename": "FileNotFoundError",
          "evalue": "[WinError 3] 지정된 경로를 찾을 수 없습니다: 'c:\\\\temp1\\\\temp2'",
          "output_type": "error",
          "traceback": [
            "\u001b[1;31m---------------------------------------------------------------------------\u001b[0m",
            "\u001b[1;31mFileNotFoundError\u001b[0m                         Traceback (most recent call last)",
            "\u001b[1;32m<ipython-input-3-d70ddc73a966>\u001b[0m in \u001b[0;36m<module>\u001b[1;34m\u001b[0m\n\u001b[0;32m      1\u001b[0m \u001b[1;31m#mkdir( ) 함수와 makedirs( ) 함수\u001b[0m\u001b[1;33m\u001b[0m\u001b[1;33m\u001b[0m\u001b[0m\n\u001b[0;32m      2\u001b[0m \u001b[1;33m\u001b[0m\u001b[0m\n\u001b[1;32m----> 3\u001b[1;33m \u001b[0mos\u001b[0m\u001b[1;33m.\u001b[0m\u001b[0mmkdir\u001b[0m\u001b[1;33m(\u001b[0m\u001b[1;34m\"c:\\\\temp1\\\\temp2\"\u001b[0m\u001b[1;33m)\u001b[0m\u001b[1;33m\u001b[0m\u001b[0m\n\u001b[0m",
            "\u001b[1;31mFileNotFoundError\u001b[0m: [WinError 3] 지정된 경로를 찾을 수 없습니다: 'c:\\\\temp1\\\\temp2'"
          ]
        }
      ],
      "source": [
        "#mkdir( ) 함수와 makedirs( ) 함수\n",
        "\n",
        "os.mkdir(\"c:\\\\temp1\\\\temp2\")"
      ]
    },
    {
      "cell_type": "code",
      "execution_count": null,
      "metadata": {
        "id": "R-eOybgLiUJ_"
      },
      "outputs": [],
      "source": [
        "os.makedirs(\"c:\\\\temp1\\\\temp2\")"
      ]
    },
    {
      "cell_type": "code",
      "execution_count": null,
      "metadata": {
        "id": "8jehcW8iiUKA"
      },
      "outputs": [],
      "source": [
        "os.makedirs(\"c:\\\\temp1\\\\temp2\")"
      ]
    },
    {
      "cell_type": "code",
      "execution_count": null,
      "metadata": {
        "id": "XIeY2wsCiUKA"
      },
      "outputs": [],
      "source": [
        "# rmdir( ) 함수와 removedirs( ) 함수\n",
        "\n",
        "os.rmdir(\"c:\\\\temp1\\\\temp2\\\\\")\n",
        "os.rmdir(\"c:\\\\temp1\\\\\")\n",
        "\n",
        "os.makedirs(\"c:\\\\temp1\\\\temp2\\\\\")\n",
        "os.removedirs(\"c:\\\\temp1\\\\temp2\\\\\")"
      ]
    },
    {
      "cell_type": "code",
      "execution_count": null,
      "metadata": {
        "scrolled": true,
        "id": "RxQ05eZ-iUKA",
        "outputId": "0dc3f90b-4a1a-458e-9f89-267aacfeba3b"
      },
      "outputs": [
        {
          "name": "stdout",
          "output_type": "stream",
          "text": [
            "C:\\책 출간 자료와 외부출강자료\\15권_파이썬과 셀레니움을 활용한 웹 크롤러 제작\\원고\\새원고_한국관광공사 예제로 시작하는 원고\n"
          ]
        }
      ],
      "source": [
        "# 다양한 형식의 파일 생성 및 수정하기\n",
        "# 1) txt 파일 생성하기\n",
        "import os\n",
        "print( os.getcwd( ) )\n",
        "os.remove(\"c:\\\\py_temp2\\\\test1.txt\")\n",
        "os.removedirs(\"c:\\\\py_temp2\")\n"
      ]
    },
    {
      "cell_type": "code",
      "execution_count": null,
      "metadata": {
        "id": "8Dv8EftyiUKA",
        "outputId": "8e4c6afd-0339-4053-895e-b42969f68ecf"
      },
      "outputs": [
        {
          "name": "stdout",
          "output_type": "stream",
          "text": [
            "c:\\py_temp2\n"
          ]
        }
      ],
      "source": [
        "os.makedirs(\"c:\\\\py_temp2\")\n",
        "os.chdir(\"c:\\\\py_temp2\")\n",
        "print( os.getcwd( ) )\n",
        "\n",
        "file = open(\"test1.txt\",\"w\")\n",
        "file.write(\" 텍스트 파일에 처음 쓴 글입니다\")\n",
        "file.close( )"
      ]
    },
    {
      "cell_type": "code",
      "execution_count": null,
      "metadata": {
        "id": "C3p4e5WoiUKB"
      },
      "outputs": [],
      "source": [
        "file2 = open(\"test1.txt\",\"w\")\n",
        "file2.write(\"텍스트 파일에 두번째 쓴 글입니다\")\n",
        "file2.close( )"
      ]
    },
    {
      "cell_type": "code",
      "execution_count": null,
      "metadata": {
        "id": "BqFKnA8KiUKB"
      },
      "outputs": [],
      "source": [
        "file3 = open(\"test1.txt\",\"a\")\n",
        "file3.write(\"텍스트 파일에 세번째 쓴 글입니다\")\n",
        "file3.close( )"
      ]
    },
    {
      "cell_type": "code",
      "execution_count": null,
      "metadata": {
        "id": "4W0gRaJ0iUKB"
      },
      "outputs": [],
      "source": [
        "file4 = open(\"test1.txt\",\"a\")\n",
        "file4.write(\"\\n\" + \"텍스트 파일에 네번째 쓴 글입니다\")\n",
        "file4.close( )"
      ]
    },
    {
      "cell_type": "code",
      "execution_count": null,
      "metadata": {
        "id": "3F7P-AGaiUKB",
        "outputId": "01b362f2-4a41-4fef-c993-c6853a5a47f7"
      },
      "outputs": [
        {
          "name": "stdout",
          "output_type": "stream",
          "text": [
            "   과목번호   과목명\n",
            "0     1    수학\n",
            "1     2    과학\n",
            "2     3  빅데이터\n"
          ]
        }
      ],
      "source": [
        "import pandas as pd\n",
        "\n",
        "# 표 ( 데이터 프레임 ) 만들기\n",
        "no = [ ]\n",
        "subject_name = [ ]\n",
        "\n",
        "no.append(1)\n",
        "no.append(2)\n",
        "no.append(3)\n",
        "\n",
        "subject_name.append('수학')\n",
        "subject_name.append('과학')\n",
        "subject_name.append('빅데이터')\n",
        "\n",
        "subject = pd.DataFrame( )\n",
        "subject['과목번호'] = no\n",
        "subject['과목명'] = subject_name\n",
        "print(subject)\n"
      ]
    },
    {
      "cell_type": "code",
      "execution_count": null,
      "metadata": {
        "id": "Zd_fJKXriUKC"
      },
      "outputs": [],
      "source": [
        "# csv 형식으로 저장하기\n",
        "subject.to_csv(\"c:\\\\py_temp2\\\\subject.csv\", encoding=\"utf-8-sig\",index=False)\n",
        "\n",
        "# xls 형식으로 저장하기\n",
        "subject.to_excel(\"c:\\\\py_temp2\\\\subject.xls\" , index=False)\n"
      ]
    },
    {
      "cell_type": "code",
      "execution_count": null,
      "metadata": {
        "id": "gR37z4GRiUKC",
        "outputId": "63e53401-f18f-4a75-dd04-46a50433fb3a"
      },
      "outputs": [
        {
          "data": {
            "text/plain": [
              "['1.새우깡\\n', '2.맛동산\\n', '3.감자깡\\n', '4.고구마깡\\n', '5.꼬깔콘']"
            ]
          },
          "execution_count": 9,
          "metadata": {},
          "output_type": "execute_result"
        }
      ],
      "source": [
        "# txt 형식 파일 내용 읽기\n",
        "\n",
        "f = open(\"c:\\\\py_temp2\\\\readme.txt\",\"r\")\n",
        "f.readlines()"
      ]
    },
    {
      "cell_type": "code",
      "execution_count": null,
      "metadata": {
        "id": "zb-5NQDDiUKC",
        "outputId": "e608e89a-0ca2-4a1d-d978-7436a5d388bd"
      },
      "outputs": [
        {
          "name": "stdout",
          "output_type": "stream",
          "text": [
            "['1.새우깡\\n', '2.맛동산\\n', '3.감자깡\\n', '4.고구마깡\\n', '5.꼬깔콘']\n",
            "\n",
            "\n",
            "1.새우깡\n",
            "\n",
            "2.맛동산\n",
            "\n",
            "\n",
            "\n",
            "1.새우깡\n",
            "\n",
            "2.맛동산\n",
            "\n",
            "3.감자깡\n",
            "\n",
            "4.고구마깡\n",
            "\n",
            "5.꼬깔콘\n"
          ]
        }
      ],
      "source": [
        "f = open(\"c:\\\\py_temp2\\\\readme.txt\",\"r\")\n",
        "snack = f.readlines( )\n",
        "print(snack)\n",
        "print(\"\\n\")\n",
        "\n",
        "#index 방법으로 특정 행을 조회하기\n",
        "print(snack[0])\n",
        "print(snack[1])\n",
        "print(\"\\n\")\n",
        "\n",
        "#for 반복문으로 한꺼번에 출력하기\n",
        "for i in snack :\n",
        "    print(i)\n",
        "\n",
        "      "
      ]
    },
    {
      "cell_type": "code",
      "execution_count": null,
      "metadata": {
        "id": "uJcy38fxiUKC",
        "outputId": "2c896eeb-4f68-4c54-fcbb-8ff293145a57"
      },
      "outputs": [
        {
          "data": {
            "text/plain": [
              "'2.맛동산\\n'"
            ]
          },
          "execution_count": 18,
          "metadata": {},
          "output_type": "execute_result"
        }
      ],
      "source": [
        "snack[0]\n",
        "snack[1]"
      ]
    },
    {
      "cell_type": "code",
      "execution_count": null,
      "metadata": {
        "id": "a_PAk0ZtiUKD",
        "outputId": "60911022-f6fa-494e-c3be-45819ae9788b"
      },
      "outputs": [
        {
          "name": "stdout",
          "output_type": "stream",
          "text": [
            "{'전우치': 'aaa@gmail.com', '홍길동': 'ccc@naver.com', '일지매': 'bbb@daum.net'}\n"
          ]
        }
      ],
      "source": [
        "# xls 형식의 파일 내용 불러오기\n",
        "\n",
        "import openpyxl\n",
        "wb = openpyxl.load_workbook(\"c:\\\\temp\\\\email.xlsx\")\n",
        "sheet = wb['Sheet1']\n",
        "\n",
        "contents = {  }\n",
        "for i in range(2,sheet.max_row+1) :\n",
        "    name = sheet.cell(row=i , column=1).value \n",
        "    email = sheet.cell(row=i , column=2).value\n",
        "    contents[name] = email\n",
        "\n",
        "print(contents)\n"
      ]
    },
    {
      "cell_type": "code",
      "execution_count": null,
      "metadata": {
        "id": "H_jPsr_FiUKD",
        "outputId": "3ae34a44-8759-4fdb-cfaa-f18c3036bcec"
      },
      "outputs": [
        {
          "name": "stdout",
          "output_type": "stream",
          "text": [
            "['name', 'email']\n",
            "['전우치', 'aaa@gmail.com']\n",
            "['일지매', 'bbb@daum.net']\n",
            "['홍길동', 'ccc@naver.com']\n"
          ]
        }
      ],
      "source": [
        "# csv 형식의 파일 내용 불러오기\n",
        "\n",
        "import csv\n",
        "\n",
        "f = open('c:\\\\temp\\\\email.csv')\n",
        "f_csv = csv.reader(f)\n",
        "for i in f_csv :\n",
        "    print(i)"
      ]
    },
    {
      "cell_type": "code",
      "execution_count": null,
      "metadata": {
        "id": "W8_BSzNMiUKD",
        "outputId": "8e3de632-475d-4054-e600-a824c3d2a951"
      },
      "outputs": [
        {
          "ename": "UnicodeDecodeError",
          "evalue": "'cp949' codec can't decode byte 0xec in position 15: illegal multibyte sequence",
          "output_type": "error",
          "traceback": [
            "\u001b[1;31m---------------------------------------------------------------------------\u001b[0m",
            "\u001b[1;31mUnicodeDecodeError\u001b[0m                        Traceback (most recent call last)",
            "\u001b[1;32m<ipython-input-26-4ac032c1d970>\u001b[0m in \u001b[0;36m<module>\u001b[1;34m\u001b[0m\n\u001b[0;32m      5\u001b[0m \u001b[0mf\u001b[0m \u001b[1;33m=\u001b[0m \u001b[0mopen\u001b[0m\u001b[1;33m(\u001b[0m\u001b[1;34m'c:\\\\temp\\\\email_utf8.csv'\u001b[0m\u001b[1;33m)\u001b[0m\u001b[1;33m\u001b[0m\u001b[0m\n\u001b[0;32m      6\u001b[0m \u001b[0mf_csv\u001b[0m \u001b[1;33m=\u001b[0m \u001b[0mcsv\u001b[0m\u001b[1;33m.\u001b[0m\u001b[0mreader\u001b[0m\u001b[1;33m(\u001b[0m\u001b[0mf\u001b[0m\u001b[1;33m)\u001b[0m\u001b[1;33m\u001b[0m\u001b[0m\n\u001b[1;32m----> 7\u001b[1;33m \u001b[1;32mfor\u001b[0m \u001b[0mi\u001b[0m \u001b[1;32min\u001b[0m \u001b[0mf_csv\u001b[0m \u001b[1;33m:\u001b[0m\u001b[1;33m\u001b[0m\u001b[0m\n\u001b[0m\u001b[0;32m      8\u001b[0m     \u001b[0mprint\u001b[0m\u001b[1;33m(\u001b[0m\u001b[0mi\u001b[0m\u001b[1;33m)\u001b[0m\u001b[1;33m\u001b[0m\u001b[0m\n",
            "\u001b[1;31mUnicodeDecodeError\u001b[0m: 'cp949' codec can't decode byte 0xec in position 15: illegal multibyte sequence"
          ]
        }
      ],
      "source": [
        "# utf-8로 인코딩된 csv 형식의 파일 내용 불러오기\n",
        "\n",
        "import csv\n",
        "\n",
        "f = open('c:\\\\temp\\\\email_utf8.csv')\n",
        "f_csv = csv.reader(f)\n",
        "for i in f_csv :\n",
        "    print(i)"
      ]
    },
    {
      "cell_type": "code",
      "execution_count": null,
      "metadata": {
        "scrolled": true,
        "id": "F4lnQylwiUKE",
        "outputId": "d9472333-4b7b-49ae-ae8c-e048462ca70f"
      },
      "outputs": [
        {
          "name": "stdout",
          "output_type": "stream",
          "text": [
            "['\\ufeffname', 'email']\n",
            "['전우치', 'aaa@gmail.com']\n",
            "['일지매', 'bbb@daum.net']\n",
            "['홍길동', 'ccc@naver.com']\n"
          ]
        }
      ],
      "source": [
        "f2 = open('c:\\\\temp\\\\email_utf8.csv ' , encoding=\"utf-8\")\n",
        "f2_csv = csv.reader(f2)\n",
        "for i in f2_csv :\n",
        "    print(i)"
      ]
    },
    {
      "cell_type": "code",
      "execution_count": null,
      "metadata": {
        "id": "IrzAM8GhiUKE"
      },
      "outputs": [],
      "source": []
    }
  ],
  "metadata": {
    "kernelspec": {
      "display_name": "Python 3",
      "language": "python",
      "name": "python3"
    },
    "language_info": {
      "codemirror_mode": {
        "name": "ipython",
        "version": 3
      },
      "file_extension": ".py",
      "mimetype": "text/x-python",
      "name": "python",
      "nbconvert_exporter": "python",
      "pygments_lexer": "ipython3",
      "version": "3.5.4"
    },
    "colab": {
      "provenance": [],
      "include_colab_link": true
    }
  },
  "nbformat": 4,
  "nbformat_minor": 0
}