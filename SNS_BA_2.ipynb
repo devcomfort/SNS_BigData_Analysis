{
  "nbformat": 4,
  "nbformat_minor": 0,
  "metadata": {
    "colab": {
      "provenance": [],
      "authorship_tag": "ABX9TyNSa/QtlNn+g8pV/Xmwo+Vo",
      "include_colab_link": true
    },
    "kernelspec": {
      "name": "python3",
      "display_name": "Python 3"
    },
    "language_info": {
      "name": "python"
    }
  },
  "cells": [
    {
      "cell_type": "markdown",
      "metadata": {
        "id": "view-in-github",
        "colab_type": "text"
      },
      "source": [
        "<a href=\"https://colab.research.google.com/github/smpark85/SNS_BigData_Analysis/blob/main/SNS_BA_2.ipynb\" target=\"_parent\"><img src=\"https://colab.research.google.com/assets/colab-badge.svg\" alt=\"Open In Colab\"/></a>"
      ]
    },
    {
      "cell_type": "code",
      "execution_count": null,
      "metadata": {
        "colab": {
          "base_uri": "https://localhost:8080/"
        },
        "id": "62UuOM1HGEAE",
        "outputId": "f80af5f5-ea76-4a3f-a139-4cb3738b6d10"
      },
      "outputs": [
        {
          "output_type": "stream",
          "name": "stdout",
          "text": [
            "10\n",
            "20\n"
          ]
        }
      ],
      "source": [
        "#Part 2_2. 변수 사용법과 입출력 배우기\n",
        "\n",
        "# 1) var1 이름의 변수를 만들고 10의 값을 할당하세요\n",
        "var1 = 10\n",
        "print(var1)\n",
        "\n",
        "# 2) var2 이름의 변수를 만들고 20의 값을 할당하세요\n",
        "var2 = 20\n",
        "print(var2)"
      ]
    },
    {
      "cell_type": "code",
      "source": [
        "#3) 다양한 연산자 사용하기\n",
        "\n",
        "print(var1 + var2)\n",
        "print(var1 * var2)\n",
        "print(var1 / var2)"
      ],
      "metadata": {
        "colab": {
          "base_uri": "https://localhost:8080/"
        },
        "id": "sQBSgnIcGyzE",
        "outputId": "c1bf8f6a-de75-4f44-eebb-01290751b40b"
      },
      "execution_count": null,
      "outputs": [
        {
          "output_type": "stream",
          "name": "stdout",
          "text": [
            "30\n",
            "200\n",
            "0.5\n"
          ]
        }
      ]
    },
    {
      "cell_type": "code",
      "source": [
        "#4) %연산자 활용하기\n",
        "\n",
        "var5 = 3\n",
        "var6 = 14\n",
        "print(var6 % var5)"
      ],
      "metadata": {
        "colab": {
          "base_uri": "https://localhost:8080/"
        },
        "id": "Czy25kUgG7It",
        "outputId": "b480cff1-3d0c-45d6-b6ae-da64bfccafe5"
      },
      "execution_count": null,
      "outputs": [
        {
          "output_type": "stream",
          "name": "stdout",
          "text": [
            "2\n"
          ]
        }
      ]
    },
    {
      "cell_type": "code",
      "source": [
        "#5) print( ) 함수 사용하기\n",
        "\n",
        "# 출력할 문장을 직접 쓰기\n",
        "print(\"오늘도 굿모닝이지 말입니다!\")\n",
        "\n",
        "#출력할 문장을 변수에 넣고 변수값 출력하기\n",
        "str = \"내일도 굿모닝이지 말입니다!\"\n",
        "print(str)"
      ],
      "metadata": {
        "colab": {
          "base_uri": "https://localhost:8080/"
        },
        "id": "eBv6Z84aHUke",
        "outputId": "c1299303-87c4-4e06-afb5-89f0b944c2b7"
      },
      "execution_count": null,
      "outputs": [
        {
          "output_type": "stream",
          "name": "stdout",
          "text": [
            "오늘도 굿모닝이지 말입니다!\n",
            "내일도 굿모닝이지 말입니다!\n"
          ]
        }
      ]
    },
    {
      "cell_type": "code",
      "source": [
        "#6) 리터럴 문자와 함께 사용하기\n",
        "hungry = 5\n",
        "print('배가 무지 고파서 밥을 %s 그릇도 먹겠네!' %hungry)"
      ],
      "metadata": {
        "colab": {
          "base_uri": "https://localhost:8080/"
        },
        "id": "Fwooq4sYHrDu",
        "outputId": "ab861348-7f2d-4593-d5e0-044311c2bb71"
      },
      "execution_count": null,
      "outputs": [
        {
          "output_type": "stream",
          "name": "stdout",
          "text": [
            "배가 무지 고파서 밥을 5 그릇도 먹겠네!\n"
          ]
        }
      ]
    },
    {
      "cell_type": "code",
      "source": [
        "#7) 특수문자와 함께 사용해야 할 경우\n",
        "\n",
        "up = 20\n",
        "print('뉴스에서 물가가 %s %까지 오른다는데....' %up)"
      ],
      "metadata": {
        "colab": {
          "base_uri": "https://localhost:8080/",
          "height": 211
        },
        "id": "aiUIHFosH-Zx",
        "outputId": "5fe7d6e4-95df-4535-f691-d27a5db5961c"
      },
      "execution_count": null,
      "outputs": [
        {
          "output_type": "error",
          "ename": "TypeError",
          "evalue": "ignored",
          "traceback": [
            "\u001b[0;31m---------------------------------------------------------------------------\u001b[0m",
            "\u001b[0;31mTypeError\u001b[0m                                 Traceback (most recent call last)",
            "\u001b[0;32m<ipython-input-9-91c9e4efcaf4>\u001b[0m in \u001b[0;36m<module>\u001b[0;34m\u001b[0m\n\u001b[1;32m      2\u001b[0m \u001b[0;34m\u001b[0m\u001b[0m\n\u001b[1;32m      3\u001b[0m \u001b[0mup\u001b[0m \u001b[0;34m=\u001b[0m \u001b[0;36m20\u001b[0m\u001b[0;34m\u001b[0m\u001b[0;34m\u001b[0m\u001b[0m\n\u001b[0;32m----> 4\u001b[0;31m \u001b[0mprint\u001b[0m\u001b[0;34m(\u001b[0m\u001b[0;34m'뉴스에서 물가가 %s %까지 오른다는데....'\u001b[0m \u001b[0;34m%\u001b[0m\u001b[0mup\u001b[0m\u001b[0;34m)\u001b[0m\u001b[0;34m\u001b[0m\u001b[0;34m\u001b[0m\u001b[0m\n\u001b[0m",
            "\u001b[0;31mTypeError\u001b[0m: not enough arguments for format string"
          ]
        }
      ]
    },
    {
      "cell_type": "code",
      "source": [
        "#7-1) 특수문자와 함께 사용해야 할 경우\n",
        "\n",
        "up = 20\n",
        "print('뉴스에서 물가가 %s %%까지 오른다는데....' %up)"
      ],
      "metadata": {
        "colab": {
          "base_uri": "https://localhost:8080/"
        },
        "id": "zyX6IfFmIUNW",
        "outputId": "606ca836-2dc2-4f32-83ba-2ed3b15193cb"
      },
      "execution_count": null,
      "outputs": [
        {
          "output_type": "stream",
          "name": "stdout",
          "text": [
            "뉴스에서 물가가 20 %까지 오른다는데....\n"
          ]
        }
      ]
    },
    {
      "cell_type": "code",
      "source": [
        "#8) 여러개의 변수를 한꺼번에 사용할 경우\n",
        "\n",
        "up = 20\n",
        "sal = 10\n",
        "\n",
        "print('뉴스에서 물가는 %s %% 오른다는데 내 월급도 %s %%라도..' %(up, sal))"
      ],
      "metadata": {
        "colab": {
          "base_uri": "https://localhost:8080/"
        },
        "id": "t-wFehM9IZou",
        "outputId": "bda04b67-73ad-4d05-c3c8-5468f303053e"
      },
      "execution_count": null,
      "outputs": [
        {
          "output_type": "stream",
          "name": "stdout",
          "text": [
            "뉴스에서 물가는 20 % 오른다는데 내 월급도 10 %라도..\n"
          ]
        }
      ]
    },
    {
      "cell_type": "code",
      "source": [
        "#9) input() 함수로 정보 입력받기\n",
        "\n",
        "txt1 = input()"
      ],
      "metadata": {
        "colab": {
          "base_uri": "https://localhost:8080/"
        },
        "id": "Ap5CHsFzIspB",
        "outputId": "6fde1455-36b9-45bb-8e39-e06b1ccb0812"
      },
      "execution_count": null,
      "outputs": [
        {
          "name": "stdout",
          "output_type": "stream",
          "text": [
            "짜장면\n"
          ]
        }
      ]
    },
    {
      "cell_type": "code",
      "source": [
        "#10) input() 함수에서 안내 멘트 보이기\n",
        "txt2 = input('점심 뭐 드셨어용?')"
      ],
      "metadata": {
        "colab": {
          "base_uri": "https://localhost:8080/"
        },
        "id": "YEdxNjT_I5SS",
        "outputId": "80381af2-4b59-4686-f6c1-93c6667ea3a5"
      },
      "execution_count": null,
      "outputs": [
        {
          "name": "stdout",
          "output_type": "stream",
          "text": [
            "점심 뭐 드셨어용?짬뽕\n"
          ]
        }
      ]
    },
    {
      "cell_type": "code",
      "source": [
        "#11) 출력 되는 양식을 지정하여 정보를 입력받기\n",
        "\n",
        "area_no = input('''\n",
        "1. 서울       2. 대전       3. 광주       4.부산\n",
        "5. 경남       6. 경북       7. 충청       8.제주\n",
        "\n",
        "위 지역중 정보를 조회할 지역의 번호를 입력하세요.''')"
      ],
      "metadata": {
        "colab": {
          "base_uri": "https://localhost:8080/"
        },
        "id": "3aaC3lIBJD0n",
        "outputId": "81e76e06-ae7f-44af-c6b0-d41efb7901b3"
      },
      "execution_count": null,
      "outputs": [
        {
          "name": "stdout",
          "output_type": "stream",
          "text": [
            "\n",
            "1. 서울       2. 대전       3. 광주       4.부산\n",
            "5. 경남       6. 경북       7. 충청       8.제주\n",
            "\n",
            "위 지역중 정보를 조회할 지역의 번호를 입력하세요.5\n"
          ]
        }
      ]
    },
    {
      "cell_type": "code",
      "source": [],
      "metadata": {
        "id": "DJUp6AMyJjnm"
      },
      "execution_count": null,
      "outputs": []
    }
  ]
}