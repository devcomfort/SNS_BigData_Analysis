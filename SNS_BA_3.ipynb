{
  "nbformat": 4,
  "nbformat_minor": 0,
  "metadata": {
    "colab": {
      "provenance": [],
      "authorship_tag": "ABX9TyN5An3+Qc6s3m9Z9b6ZlrhI",
      "include_colab_link": true
    },
    "kernelspec": {
      "name": "python3",
      "display_name": "Python 3"
    },
    "language_info": {
      "name": "python"
    }
  },
  "cells": [
    {
      "cell_type": "markdown",
      "metadata": {
        "id": "view-in-github",
        "colab_type": "text"
      },
      "source": [
        "<a href=\"https://colab.research.google.com/github/smpark85/SNS_BigData_Analysis/blob/main/SNS_BA_3.ipynb\" target=\"_parent\"><img src=\"https://colab.research.google.com/assets/colab-badge.svg\" alt=\"Open In Colab\"/></a>"
      ]
    },
    {
      "cell_type": "code",
      "execution_count": 1,
      "metadata": {
        "colab": {
          "base_uri": "https://localhost:8080/"
        },
        "id": "dsPN8086LBWK",
        "outputId": "5c734969-97c0-4f6d-ff64-c99296481f31"
      },
      "outputs": [
        {
          "output_type": "stream",
          "name": "stdout",
          "text": [
            "1.더하기 예 : 2 + 4 =  6\n",
            "2.빼기 예 : 4 -2 =  2\n",
            "3.곱하기 예 : 4 X 2 =  8\n",
            "4.나누기 예 : 4 / 2 =  2.0\n",
            "5.나누기에서 몫만 출력하기 예  : 4 // 2 =  2\n",
            "6.나누기에서 나머지 값만 출력하기 예 : 4 % 2 =  0\n",
            "7.주어진 숫자의 승수값 출력하기 예  : 4 ** 2 =  16\n"
          ]
        }
      ],
      "source": [
        "### 파이썬에서 산술 연산자를 사용하는 예###\n",
        "\n",
        "#더하기\n",
        "print(\"1.더하기 예 : 2 + 4 = \" , 2 + 4)\n",
        "\n",
        "#빼기\n",
        "print(\"2.빼기 예 : 4 -2 = \", 4 - 2)\n",
        "\n",
        "#곱하기\n",
        "print(\"3.곱하기 예 : 4 X 2 = \" , 4 * 2)\n",
        "\n",
        "#나누기\n",
        "print(\"4.나누기 예 : 4 / 2 = \" , 4 / 2)\n",
        "\n",
        "#나누기에서 몫 만 출력하기\n",
        "print(\"5.나누기에서 몫만 출력하기 예  : 4 // 2 = \", 4 // 2)\n",
        "\n",
        "#나누기에서 나머지값만 출력하기\n",
        "print(\"6.나누기에서 나머지 값만 출력하기 예 : 4 % 2 = \", 4 % 2)\n",
        "\n",
        "#주어진 숫자의 승수값 출력하기\n",
        "print(\"7.주어진 숫자의 승수값 출력하기 예  : 4 ** 2 = \", 4 **2)"
      ]
    },
    {
      "cell_type": "code",
      "source": [
        "#연산자 사용 방법\n",
        "# Case 1\n",
        "i = 0\n",
        "i = i + 2\n",
        "print(\"i에 저장된 값은 %s 입니다\" %i)\n",
        "\n",
        "# Case 2\n",
        "j = 0\n",
        "i += 3\n",
        "print(\"j에 저장된 값은 %s 입니다\" %j)"
      ],
      "metadata": {
        "colab": {
          "base_uri": "https://localhost:8080/"
        },
        "id": "lzXxLbHJMqnQ",
        "outputId": "93583509-862f-4262-a83a-355b9438981a"
      },
      "execution_count": 2,
      "outputs": [
        {
          "output_type": "stream",
          "name": "stdout",
          "text": [
            "i에 저장된 값은 2 입니다\n",
            "j에 저장된 값은 0 입니다\n"
          ]
        }
      ]
    },
    {
      "cell_type": "code",
      "source": [
        "# 정수형으로 변환하기 - 변환하기 전\n",
        "\n",
        "no1 = input(\"첫번째 숫자 입력:\")\n",
        "no2 = input(\"두번째 숫자 입력:\")\n",
        "\n",
        "print('''첫번째 숫자는 %s 이고 두번째 숫자는 %s 이며 두 숫자의 합은 %s 입니다''' %(no1, no2, no1+no2))"
      ],
      "metadata": {
        "colab": {
          "base_uri": "https://localhost:8080/"
        },
        "id": "XJopzL7-NMI9",
        "outputId": "5087f2d0-a463-4b4e-a5ef-044af1a42b9f"
      },
      "execution_count": 3,
      "outputs": [
        {
          "output_type": "stream",
          "name": "stdout",
          "text": [
            "첫번째 숫자 입력:2\n",
            "두번째 숫자 입력:3\n",
            "첫번째 숫자는 2 이고 두번째 숫자는 3 이며 두 숫자의 합은 23 입니다\n"
          ]
        }
      ]
    },
    {
      "cell_type": "code",
      "source": [
        "# 정수형으로 변환하기 - 변환 후\n",
        "\n",
        "no1 = int(input(\"첫번째 숫자 입력:\"))\n",
        "no2 = int(input(\"두번째 숫자 입력:\"))\n",
        "\n",
        "print('''첫번째 숫자는 %s 이고 두번째 숫자는 %s 이며 두 숫자의 합은 %s 입니다''' %(no1, no2, no1+no2))"
      ],
      "metadata": {
        "colab": {
          "base_uri": "https://localhost:8080/"
        },
        "id": "TqnYLxYWNmdS",
        "outputId": "2f8d8e50-b77d-4a10-8a18-db342b794184"
      },
      "execution_count": 4,
      "outputs": [
        {
          "output_type": "stream",
          "name": "stdout",
          "text": [
            "첫번째 숫자 입력:2\n",
            "두번째 숫자 입력:3\n",
            "첫번째 숫자는 2 이고 두번째 숫자는 3 이며 두 숫자의 합은 5 입니다\n"
          ]
        }
      ]
    },
    {
      "cell_type": "code",
      "source": [
        "# 실수형 숫자 타입\n",
        "\n",
        "print(\"정수형 숫자 타입:\", int(1))\n",
        "print(\"실수형 숫자 타입:\", float(1))"
      ],
      "metadata": {
        "colab": {
          "base_uri": "https://localhost:8080/"
        },
        "id": "iTI7zen5N5ro",
        "outputId": "c1b20c8e-8824-474a-c54d-cef70fd34597"
      },
      "execution_count": 5,
      "outputs": [
        {
          "output_type": "stream",
          "name": "stdout",
          "text": [
            "정수형 숫자 타입: 1\n",
            "실수형 숫자 타입: 1.0\n"
          ]
        }
      ]
    },
    {
      "cell_type": "code",
      "source": [
        "# 숫자 타입에서 많이 사용되는 주요 함수\n",
        "#a) round( ) - 반올림 함수\n",
        "\n",
        "no1 = 3.45678\n",
        "no2 = 3.56789\n",
        "print(\"원래값 : %s , 반올림후 값 : %s\" %(no1, round(no1)))\n",
        "print(\"원래값 : %s , 반올림후 값 : %s\" %(no2, round(no2)))"
      ],
      "metadata": {
        "colab": {
          "base_uri": "https://localhost:8080/"
        },
        "id": "yDj_QCwqOHR1",
        "outputId": "cfea7498-0b1f-4c6f-c794-a1a74f5311a3"
      },
      "execution_count": 6,
      "outputs": [
        {
          "output_type": "stream",
          "name": "stdout",
          "text": [
            "원래값 : 3.45678 , 반올림후 값 : 3\n",
            "원래값 : 3.56789 , 반올림후 값 : 4\n"
          ]
        }
      ]
    },
    {
      "cell_type": "code",
      "source": [
        "# 숫자 타입에서 많이 사용되는 주요 함수\n",
        "#a) round( ) - 반올림 함수의 소수점 이하 자리수 지정\n",
        "\n",
        "no1 = 3\n",
        "no2 = 5\n",
        "print(\"반올림하기 전 원래 값:\", no2 / no1)\n",
        "print(\"소수 첫째자리까지 반올림하기:\", round(no2 / no1,1))\n",
        "print(\"소수 둘째자리까지 반올림하기:\", round(no2 / no1,2))"
      ],
      "metadata": {
        "colab": {
          "base_uri": "https://localhost:8080/"
        },
        "id": "eKcFIVrDOjTR",
        "outputId": "bb0df3cf-1de0-49d2-b8f3-7445b66f1c4c"
      },
      "execution_count": 7,
      "outputs": [
        {
          "output_type": "stream",
          "name": "stdout",
          "text": [
            "반올림하기 전 원래 값: 1.6666666666666667\n",
            "소수 첫째자리까지 반올림하기: 1.7\n",
            "소수 둘째자리까지 반올림하기: 1.67\n"
          ]
        }
      ]
    },
    {
      "cell_type": "code",
      "source": [
        "# 숫자 타입에서 많이 사용되는 주요 함수\n",
        "#b) trunc( ) - 버림함수\n",
        "import math\n",
        "\n",
        "no1 = 3\n",
        "no2 = 5\n",
        "print(\"버림하기 전 원래값:\", no2 / no1)\n",
        "print(\"소수 첫째자리까지 버림하기:\", math.trunc(no2 / no1))"
      ],
      "metadata": {
        "colab": {
          "base_uri": "https://localhost:8080/"
        },
        "id": "Szw9qV8nPIU2",
        "outputId": "14fa58ac-d8f0-49a5-a9db-45dd8e8e7d86"
      },
      "execution_count": 8,
      "outputs": [
        {
          "output_type": "stream",
          "name": "stdout",
          "text": [
            "버림하기 전 원래값: 1.6666666666666667\n",
            "소수 첫째자리까지 버림하기: 1\n"
          ]
        }
      ]
    },
    {
      "cell_type": "code",
      "source": [
        "# 숫자 타입에서 많이 사용되는 주요 함수\n",
        "#c) ceil( ) - 큰 정수 찾기 함수\n",
        "\n",
        "cnt = int (input(\"총 몇건의 데이터를 수집할까요? :\") )\n",
        "#한페이지에 15건의 게시물이 있다고 가정하고 계산합니다.\n",
        "page_cnt = math.ceil(cnt/15)\n",
        "print(\"총 %s 페이지까지 데이터를 수집해야 합니다\" %page_cnt)"
      ],
      "metadata": {
        "colab": {
          "base_uri": "https://localhost:8080/"
        },
        "id": "GjOq15ZpPeq7",
        "outputId": "90311af5-85fb-4b77-b009-c4bb38c24f40"
      },
      "execution_count": 9,
      "outputs": [
        {
          "output_type": "stream",
          "name": "stdout",
          "text": [
            "총 몇건의 데이터를 수집할까요? :200\n",
            "총 14 페이지까지 데이터를 수집해야 합니다\n"
          ]
        }
      ]
    },
    {
      "cell_type": "code",
      "source": [
        "# 숫자 타입에서 많이 사용되는 주요 함수\n",
        "#d) floor( ) - 작은 정수 찾기 함수\n",
        "import math\n",
        "\n",
        "no1 = 4.9\n",
        "no2 = 4.1\n",
        "\n",
        "print(\"%s보다 작으면서 가장 가까운 정수는 %s 입니다\" %(no1, math.floor(no1)))\n",
        "print(\"%s보다 작으면서 가장 가까운 정수는 %s 입니다\" %(no2, math.floor(no2)))"
      ],
      "metadata": {
        "colab": {
          "base_uri": "https://localhost:8080/"
        },
        "id": "4ze8i0HeP9Xz",
        "outputId": "50cb473a-db3e-4eb7-e16a-8e89c3ea4f57"
      },
      "execution_count": 10,
      "outputs": [
        {
          "output_type": "stream",
          "name": "stdout",
          "text": [
            "4.9보다 작으면서 가장 가까운 정수는 4 입니다\n",
            "4.1보다 작으면서 가장 가까운 정수는 4 입니다\n"
          ]
        }
      ]
    },
    {
      "cell_type": "code",
      "source": [
        "#2. 문자열 유형\n",
        "# 2) 인덱싱과 슬라이싱\n",
        "\n",
        "str1 = '파이썬완전쉽죠?'\n",
        "print(str1)\n",
        "print(str1[0])\n",
        "print(str1[1])"
      ],
      "metadata": {
        "colab": {
          "base_uri": "https://localhost:8080/"
        },
        "id": "gUxfAm12Qa5i",
        "outputId": "3f7f9221-ddd8-411f-f1d4-60d9faaffd90"
      },
      "execution_count": 11,
      "outputs": [
        {
          "output_type": "stream",
          "name": "stdout",
          "text": [
            "파이썬완전쉽죠?\n",
            "파\n",
            "이\n"
          ]
        }
      ]
    },
    {
      "cell_type": "code",
      "source": [
        "# 슬라이싱 예제\n",
        "\n",
        "str1 = '파이썬완전쉽조?'\n",
        "print(str1)\n",
        "\n",
        "print(str1[0:4])"
      ],
      "metadata": {
        "colab": {
          "base_uri": "https://localhost:8080/"
        },
        "id": "JwK8WEjCQyrd",
        "outputId": "bd190da4-6194-4066-c6cd-710510cf92aa"
      },
      "execution_count": 12,
      "outputs": [
        {
          "output_type": "stream",
          "name": "stdout",
          "text": [
            "파이썬완전쉽조?\n",
            "파이썬완\n"
          ]
        }
      ]
    },
    {
      "cell_type": "code",
      "source": [
        "# 슬라이싱 예제 2\n",
        "\n",
        "str1 = '파이썬 완전 쉽죠?'\n",
        "\n",
        "print(str1[3:])\n",
        "print(str1[:3])"
      ],
      "metadata": {
        "colab": {
          "base_uri": "https://localhost:8080/"
        },
        "id": "cQfACuMfQ-Qi",
        "outputId": "be962a86-e661-4bc7-d86f-144437a194d3"
      },
      "execution_count": 13,
      "outputs": [
        {
          "output_type": "stream",
          "name": "stdout",
          "text": [
            " 완전 쉽죠?\n",
            "파이썬\n"
          ]
        }
      ]
    },
    {
      "cell_type": "code",
      "source": [
        "# [ lower( )함수 / upper( ) 함수]\n",
        "\n",
        "str2 = \"PyThoN\" #대소문자가 섞여 있습니다\n",
        "print(str2.lower())\n",
        "print(str2.upper())"
      ],
      "metadata": {
        "colab": {
          "base_uri": "https://localhost:8080/"
        },
        "id": "A1fq8jtgRIzb",
        "outputId": "654d0058-d147-4e5f-8dda-ea68c4901c10"
      },
      "execution_count": 14,
      "outputs": [
        {
          "output_type": "stream",
          "name": "stdout",
          "text": [
            "python\n",
            "PYTHON\n"
          ]
        }
      ]
    },
    {
      "cell_type": "code",
      "source": [
        "# [lstrip( ) / rstrip( ) / strip( ) ]\n",
        "\n",
        "str3 = \"       <- 이쪽 끝에 공백 있었어요\"\n",
        "str4 = \"오른쪽 끝에 공백 있었어요->         \"\n",
        "str5 = \"       <- 양쪽 끝에 공백 있었어요->         \"\n",
        "\n",
        "print(str3.lstrip())\n",
        "print(str4.rstrip())\n",
        "print(str5.strip())"
      ],
      "metadata": {
        "colab": {
          "base_uri": "https://localhost:8080/"
        },
        "id": "T7AsR1hVRaNz",
        "outputId": "f433799b-b3ad-4eb0-8828-2f6d17db8537"
      },
      "execution_count": 16,
      "outputs": [
        {
          "output_type": "stream",
          "name": "stdout",
          "text": [
            "<- 이쪽 끝에 공백 있었어요\n",
            "오른쪽 끝에 공백 있었어요->\n",
            "<- 양쪽 끝에 공백 있었어요->\n"
          ]
        }
      ]
    },
    {
      "cell_type": "code",
      "source": [
        "# replace(  )\n",
        "str6 = '새우깡도 해산물 인가요?'\n",
        "print(str6.replace(\"새우깡\", \"새우\"))"
      ],
      "metadata": {
        "colab": {
          "base_uri": "https://localhost:8080/"
        },
        "id": "soh-gVFPR_EH",
        "outputId": "e4a38da4-a7a5-4db2-a1bf-b6b01ef27663"
      },
      "execution_count": 17,
      "outputs": [
        {
          "output_type": "stream",
          "name": "stdout",
          "text": [
            "새우도 해산물 인가요?\n"
          ]
        }
      ]
    },
    {
      "cell_type": "code",
      "source": [
        "# split( )\n",
        "\n",
        "tel = '+82-02-1234-5678'\n",
        "print(tel.split('-'))\n",
        "print(tel.split('-',0))\n",
        "print(tel.split('-',1))\n",
        "print(tel.split('-',2))"
      ],
      "metadata": {
        "colab": {
          "base_uri": "https://localhost:8080/"
        },
        "id": "9KCBVAsbSOm1",
        "outputId": "c16b8f47-1a75-43aa-b639-b6e50be88eae"
      },
      "execution_count": 27,
      "outputs": [
        {
          "output_type": "stream",
          "name": "stdout",
          "text": [
            "['+82', '02', '1234', '5678']\n",
            "['+82-02-1234-5678']\n",
            "['+82', '02-1234-5678']\n",
            "['+82', '02', '1234-5678']\n"
          ]
        }
      ]
    },
    {
      "cell_type": "code",
      "source": [
        "# len( )\n",
        "\n",
        "str1 = '파이썬 완전 좋아요'\n",
        "str2 = ['파이썬', '웹크롤러', '가치랩스']\n",
        "\n",
        "print(len(str1))\n",
        "print(len(str2))"
      ],
      "metadata": {
        "colab": {
          "base_uri": "https://localhost:8080/"
        },
        "id": "vxHxf8obSbgJ",
        "outputId": "3b93a6d3-25b5-471a-e576-796eed6f9784"
      },
      "execution_count": 29,
      "outputs": [
        {
          "output_type": "stream",
          "name": "stdout",
          "text": [
            "10\n",
            "3\n"
          ]
        }
      ]
    },
    {
      "cell_type": "code",
      "source": [
        "# 문자열로 연산하기\n",
        "\n",
        "print(\"=\" *80)\n",
        "print(\"문자열로 연산하기 실습\")\n",
        "print(\"+\" *80)"
      ],
      "metadata": {
        "colab": {
          "base_uri": "https://localhost:8080/"
        },
        "id": "XHd7mgWWTWbY",
        "outputId": "3702c5ca-75d4-4f91-f64a-cd19bf316a28"
      },
      "execution_count": 31,
      "outputs": [
        {
          "output_type": "stream",
          "name": "stdout",
          "text": [
            "================================================================================\n",
            "문자열로 연산하기 실습\n",
            "++++++++++++++++++++++++++++++++++++++++++++++++++++++++++++++++++++++++++++++++\n"
          ]
        }
      ]
    },
    {
      "cell_type": "code",
      "source": [
        "# 리스트 유형 예제\n",
        "\n",
        "list1 = ['1982-07-15', '홍길동', 30]\n",
        "print(list1)"
      ],
      "metadata": {
        "colab": {
          "base_uri": "https://localhost:8080/"
        },
        "id": "T1tLXDqTTof5",
        "outputId": "730e783d-0065-4d3f-c853-70fafe862d23"
      },
      "execution_count": 33,
      "outputs": [
        {
          "output_type": "stream",
          "name": "stdout",
          "text": [
            "['1982-07-15', '홍길동', 30]\n"
          ]
        }
      ]
    },
    {
      "cell_type": "code",
      "source": [
        "# append( )함수 / insert( ) 함수\n",
        "\n",
        "list2 = ['첫째', '둘째', '셋째']\n",
        "list2.append('append로 추가한 것')\n",
        "list2.insert(2, 'insert로 추가한 것')\n",
        "print(list2)"
      ],
      "metadata": {
        "colab": {
          "base_uri": "https://localhost:8080/"
        },
        "id": "VHZHMQ8aT3H2",
        "outputId": "5b05257d-7498-4c3e-8219-04920fa34ebe"
      },
      "execution_count": 38,
      "outputs": [
        {
          "output_type": "stream",
          "name": "stdout",
          "text": [
            "['첫째', '둘째', 'insert로 추가한 것', '셋째', 'append로 추가한 것']\n"
          ]
        }
      ]
    },
    {
      "cell_type": "code",
      "source": [
        "# del( )함수  / remove( )함수\n",
        "\n",
        "print('삭제전목록:', list2)\n",
        "del list2[2]\n",
        "print('del 로 삭제후 목록 : ', list2)\n",
        "\n",
        "list2.remove(\"append로 추가한 것\")\n",
        "print('remove로 삭제후 목록:', list2)"
      ],
      "metadata": {
        "colab": {
          "base_uri": "https://localhost:8080/"
        },
        "id": "eeYD4weqUe9x",
        "outputId": "ddf02a70-0e89-448a-ba6d-160f9fd2a1ef"
      },
      "execution_count": 39,
      "outputs": [
        {
          "output_type": "stream",
          "name": "stdout",
          "text": [
            "삭제전목록: ['첫째', '둘째', 'insert로 추가한 것', '셋째', 'append로 추가한 것']\n",
            "del 로 삭제후 목록 :  ['첫째', '둘째', '셋째', 'append로 추가한 것']\n",
            "remove로 삭제후 목록: ['첫째', '둘째', '셋째']\n"
          ]
        }
      ]
    },
    {
      "cell_type": "code",
      "source": [
        "# sort( )함수와 reverse( )함수\n",
        "\n",
        "list3 = [3,1,5,8,2]\n",
        "list3.sort()\n",
        "print('오름차순(기본)정립후', list3)\n",
        "\n",
        "list3.reverse()\n",
        "print('내림차순 정렬후:', list3)\n",
        "\n",
        "list4 = ['banana', 'apple', 'cherry', 'Apple']\n",
        "list4.sort()\n",
        "print('영어 정렬:', list4)\n",
        "\n",
        "list5 = ['홍길동', '전우치', '김유신', '이순신']\n",
        "list5.sort()\n",
        "print('한글 정렬:', list5)"
      ],
      "metadata": {
        "colab": {
          "base_uri": "https://localhost:8080/"
        },
        "id": "f7UsaVN4VLi-",
        "outputId": "86a2f35e-180d-4703-c2ae-2adff34fa94c"
      },
      "execution_count": 40,
      "outputs": [
        {
          "output_type": "stream",
          "name": "stdout",
          "text": [
            "오름차순(기본)정립후 [1, 2, 3, 5, 8]\n",
            "내림차순 정렬후: [8, 5, 3, 2, 1]\n",
            "영어 정렬: ['Apple', 'apple', 'banana', 'cherry']\n",
            "한글 정렬: ['김유신', '이순신', '전우치', '홍길동']\n"
          ]
        }
      ]
    },
    {
      "cell_type": "code",
      "source": [],
      "metadata": {
        "id": "TQiLOXXdWR4m"
      },
      "execution_count": null,
      "outputs": []
    }
  ]
}