{
  "cells": [
    {
      "cell_type": "markdown",
      "metadata": {
        "id": "view-in-github",
        "colab_type": "text"
      },
      "source": [
        "<a href=\"https://colab.research.google.com/github/smpark85/SNS_BigData_Analysis/blob/main/Part_1_Chap_4_%EC%A1%B0%EA%B1%B4%EB%AC%B8%EA%B3%BC_%EB%B0%98%EB%B3%B5%EB%AC%B8_%ED%99%9C%EC%9A%A9%ED%95%98%EA%B8%B0.ipynb\" target=\"_parent\"><img src=\"https://colab.research.google.com/assets/colab-badge.svg\" alt=\"Open In Colab\"/></a>"
      ]
    },
    {
      "cell_type": "code",
      "execution_count": null,
      "metadata": {
        "id": "rTMRDQKEhUcX",
        "outputId": "f91ea08c-df5a-4eb0-afdb-bb9a6dda3e28"
      },
      "outputs": [
        {
          "name": "stdout",
          "output_type": "stream",
          "text": [
            "조회할 사람의 이름을 입력하세요: 홍길동\n",
            "홍길동 입니다\n",
            "남자입니다\n",
            "활빈당 총수입니다\n"
          ]
        }
      ],
      "source": [
        "# 조건문과 반복문 활용하기\n",
        "\n",
        "# 예제 1\n",
        "name = input('조회할 사람의 이름을 입력하세요: ')\n",
        "\n",
        "if name=='홍길동' :\n",
        "    print(\"홍길동 입니다\")\n",
        "    print(\"남자입니다\")\n",
        "    print(\"활빈당 총수입니다\")"
      ]
    },
    {
      "cell_type": "code",
      "execution_count": null,
      "metadata": {
        "scrolled": true,
        "id": "Ar1AWpfohUca",
        "outputId": "4a2a4674-d3c2-4c23-942a-eedd0caa8248"
      },
      "outputs": [
        {
          "ename": "IndentationError",
          "evalue": "unexpected indent (<ipython-input-2-658f87aae336>, line 7)",
          "output_type": "error",
          "traceback": [
            "\u001b[1;36m  File \u001b[1;32m\"<ipython-input-2-658f87aae336>\"\u001b[1;36m, line \u001b[1;32m7\u001b[0m\n\u001b[1;33m    print(\"활빈당 총수입니다\")\u001b[0m\n\u001b[1;37m    ^\u001b[0m\n\u001b[1;31mIndentationError\u001b[0m\u001b[1;31m:\u001b[0m unexpected indent\n"
          ]
        }
      ],
      "source": [
        "# 예제 2\n",
        "name = input('조회할 사람의 이름을 입력하세요: ')\n",
        "\n",
        "if name=='홍길동' :\n",
        "    print(\"홍길동 입니다\")\n",
        "    print(\"남자입니다\")\n",
        "        print(\"활빈당 총수입니다\")"
      ]
    },
    {
      "cell_type": "code",
      "execution_count": null,
      "metadata": {
        "scrolled": true,
        "id": "KHEoR38jhUcb",
        "outputId": "538e22a2-ddc7-414c-c053-58dad31732bd"
      },
      "outputs": [
        {
          "name": "stdout",
          "output_type": "stream",
          "text": [
            "조회할 사람의 이름을 입력하세요: 일지매\n",
            "홍길동이 아니고 일지매 입니다\n",
            "남자인가요?\n",
            "여자인가요?\n"
          ]
        }
      ],
      "source": [
        "# 예제 3\n",
        "name = input('조회할 사람의 이름을 입력하세요: ')\n",
        "\n",
        "if name=='홍길동' :\n",
        "    print(\"홍길동 입니다\")\n",
        "    print(\"남자입니다\")\n",
        "    print(\"활빈당 총수입니다\")\n",
        "else :\n",
        "    print(\"홍길동이 아니고 %s 입니다\" %name)\n",
        "    print(\"남자인가요?\")\n",
        "    print(\"여자인가요?\")"
      ]
    },
    {
      "cell_type": "code",
      "execution_count": null,
      "metadata": {
        "id": "L6QobyJFhUcb",
        "outputId": "5921328c-49fc-480d-9b22-524d76557459"
      },
      "outputs": [
        {
          "name": "stdout",
          "output_type": "stream",
          "text": [
            "점수를 입력하세요: 99\n",
            " A 등급입니다!\n"
          ]
        }
      ],
      "source": [
        "#예제 4\n",
        "\n",
        "jumsu = int(input(\"점수를 입력하세요: \"))\n",
        "\n",
        "if jumsu >= 91 and jumsu <= 100 :\n",
        "    print(\" A 등급입니다!\")\n",
        "elif jumsu >= 81 and jumsu <= 90 :\n",
        "    print(\" B 등급입니다!\")\n",
        "elif jumsu >= 71 and jumsu <= 80 :\n",
        "    print(\" C 등급입니다!\")\n",
        "else :\n",
        "    print(\" D 등급입니다!\")"
      ]
    },
    {
      "cell_type": "code",
      "execution_count": null,
      "metadata": {
        "id": "Jgpm-Il4hUcb",
        "outputId": "65b129ea-af37-401f-f223-e131cf8441be"
      },
      "outputs": [
        {
          "name": "stdout",
          "output_type": "stream",
          "text": [
            "점수를 입력하세요: 99\n",
            " A 등급입니다!\n"
          ]
        }
      ],
      "source": [
        "#예제 5\n",
        "\n",
        "jumsu = int(input(\"점수를 입력하세요: \"))\n",
        "\n",
        "if jumsu >= 91 & jumsu <= 100 :\n",
        "    print(\" A 등급입니다!\")\n",
        "elif jumsu >= 81 & jumsu <= 90 :\n",
        "    print(\" B 등급입니다!\")\n",
        "elif jumsu >= 71 & jumsu <= 80 :\n",
        "    print(\" C 등급입니다!\")\n",
        "else :\n",
        "    print(\" D 등급입니다!\")"
      ]
    },
    {
      "cell_type": "code",
      "execution_count": null,
      "metadata": {
        "scrolled": true,
        "id": "RVbJF3E0hUcc",
        "outputId": "78fa69ee-c124-4789-80c3-0e91b1d8ca30"
      },
      "outputs": [
        {
          "name": "stdout",
          "output_type": "stream",
          "text": [
            "Y 또는 y 를 입력하세요: N\n",
            "Y 또는 y 를 입력하세요\n"
          ]
        }
      ],
      "source": [
        "# 예제 6\n",
        "answer = input(\"Y 또는 y 를 입력하세요: \")\n",
        "if answer == 'Y' or answer == 'y' :\n",
        "    print(\"입력하신 문자는 %s 입니다\" %answer)\n",
        "else :\n",
        "    print(\"Y 또는 y 를 입력하세요\")"
      ]
    },
    {
      "cell_type": "code",
      "execution_count": null,
      "metadata": {
        "id": "MbzR4NUQhUcc",
        "outputId": "c99b30cd-93c7-43fb-edce-238cb7aa224e"
      },
      "outputs": [
        {
          "name": "stdout",
          "output_type": "stream",
          "text": [
            "Y 또는 y 를 입력하세요: N\n",
            "입력하신 문자는 N 입니다\n"
          ]
        }
      ],
      "source": [
        "# 예제 7\n",
        "answer = input(\"Y 또는 y 를 입력하세요: \")\n",
        "if answer != 'Y' and answer != 'y' :\n",
        "    print(\"입력하신 문자는 %s 입니다\" %answer)\n",
        "else :\n",
        "    print(\"Y 또는 y 를 입력하셨군요~\")"
      ]
    },
    {
      "cell_type": "code",
      "execution_count": null,
      "metadata": {
        "id": "z0zd53dwhUcc",
        "outputId": "72439302-7247-452a-868f-85398687430e"
      },
      "outputs": [
        {
          "name": "stdout",
          "output_type": "stream",
          "text": [
            "Y 또는 y 를 입력하세요: y\n",
            "Y 또는 y 를 입력하셨군요~\n"
          ]
        }
      ],
      "source": [
        "# 예제 8\n",
        "answer = input(\"Y 또는 y 를 입력하세요: \")\n",
        "if answer != 'Y' and answer != 'y' :\n",
        "    print(\"입력하신 문자는 %s 입니다\" %answer)\n",
        "else :\n",
        "    print(\"Y 또는 y 를 입력하셨군요~\")"
      ]
    },
    {
      "cell_type": "code",
      "execution_count": null,
      "metadata": {
        "id": "wjjEpk4BhUcd",
        "outputId": "1f687ae1-d142-41a0-8863-a0d9343852e8"
      },
      "outputs": [
        {
          "name": "stdout",
          "output_type": "stream",
          "text": [
            "1\n",
            "2\n",
            "3\n"
          ]
        }
      ],
      "source": [
        "# 예제 9\n",
        "\n",
        "for i in (1, 2, 3) :\n",
        "    print( i )\n",
        "    "
      ]
    },
    {
      "cell_type": "code",
      "execution_count": null,
      "metadata": {
        "id": "aX4d-2vdhUcd",
        "outputId": "eee026a2-477b-461d-98f9-5c7e35f20977"
      },
      "outputs": [
        {
          "name": "stdout",
          "output_type": "stream",
          "text": [
            "하나\n",
            "둘\n",
            "셋\n"
          ]
        }
      ],
      "source": [
        "# 예제 10\n",
        "\n",
        "data = [\"하나\",\"둘\",\"셋\"]\n",
        "for i in data :\n",
        "    print( i )\n",
        "    "
      ]
    },
    {
      "cell_type": "code",
      "execution_count": null,
      "metadata": {
        "id": "CUWTqSnEhUce",
        "outputId": "1dcf2d96-82ae-462d-be3e-7b072870edf4"
      },
      "outputs": [
        {
          "name": "stdout",
          "output_type": "stream",
          "text": [
            "김구 님은 대한민국의 위대한 위인이고 자랑이십니다~!\n",
            "유관순 님은 대한민국의 위대한 위인이고 자랑이십니다~!\n",
            "이순신 님은 대한민국의 위대한 위인이고 자랑이십니다~!\n"
          ]
        }
      ],
      "source": [
        "# 예제 11\n",
        "\n",
        "data = [\"김구\",\"유관순\",\"이순신\"]\n",
        "for i in data :\n",
        "    print(\"%s 님은 대한민국의 위대한 위인이고 자랑이십니다~!\"  % i)"
      ]
    },
    {
      "cell_type": "code",
      "execution_count": null,
      "metadata": {
        "id": "REmq8HDRhUce",
        "outputId": "be76b411-447f-4bbc-d1cb-e503411cff5b"
      },
      "outputs": [
        {
          "name": "stdout",
          "output_type": "stream",
          "text": [
            "밥 1 그릇 주세요~\n",
            "밥 2 그릇 주세요~\n",
            "밥 3 그릇 주세요~\n",
            "밥 4 그릇 주세요~\n"
          ]
        }
      ],
      "source": [
        "# 예제 12\n",
        "\n",
        "for i in range(1,5) :\n",
        "    print(\"밥 %s 그릇 주세요~\" %i)"
      ]
    },
    {
      "cell_type": "code",
      "execution_count": null,
      "metadata": {
        "id": "gypm123IhUce",
        "outputId": "28587bda-ada7-44c9-f026-550caf84219c"
      },
      "outputs": [
        {
          "name": "stdout",
          "output_type": "stream",
          "text": [
            "1\n",
            "3\n",
            "5\n",
            "7\n"
          ]
        }
      ],
      "source": [
        "# 예제 13\n",
        "\n",
        "no1 = 1\n",
        "while no1 < 9 :\n",
        "    print(no1)\n",
        "    no1 += 2"
      ]
    },
    {
      "cell_type": "code",
      "execution_count": null,
      "metadata": {
        "id": "-VKzm-XghUce",
        "outputId": "2720cd56-e00d-4a4b-b269-92976082ed6e"
      },
      "outputs": [
        {
          "name": "stdout",
          "output_type": "stream",
          "text": [
            "2\n",
            "4\n",
            "6\n",
            "8\n",
            "10\n"
          ]
        }
      ],
      "source": [
        "# 예제 14\n",
        "\n",
        "no1 = 0\n",
        "while no1 < 9 :\n",
        "    no1 += 2\n",
        "    print(no1)\n",
        "    "
      ]
    },
    {
      "cell_type": "code",
      "execution_count": null,
      "metadata": {
        "id": "QWfrw1eahUcf",
        "outputId": "d1a0b1a1-962d-4e57-d577-c49c09aa3ca8"
      },
      "outputs": [
        {
          "name": "stdout",
          "output_type": "stream",
          "text": [
            "새우깡  완전 맛있어요~!\n",
            "감자깡  완전 맛있어요~!\n"
          ]
        }
      ],
      "source": [
        "# 예제 15\n",
        "\n",
        "snack = [\"새우깡\",\"감자깡\",\"고구마깡\",\"맛동산\",\"짱구\"]\n",
        "for i in snack :\n",
        "    if i == \"고구마깡\" :\n",
        "         break\n",
        "    print(i,\" 완전 맛있어요~!\")"
      ]
    },
    {
      "cell_type": "code",
      "execution_count": null,
      "metadata": {
        "id": "VUdscN_2hUcf",
        "outputId": "aa4d5336-a8e5-4d32-f010-5b3decd8750e"
      },
      "outputs": [
        {
          "name": "stdout",
          "output_type": "stream",
          "text": [
            "새우깡  완전 맛있어요~!\n",
            "감자깡  완전 맛있어요~!\n",
            "맛동산  완전 맛있어요~!\n",
            "짱구  완전 맛있어요~!\n"
          ]
        }
      ],
      "source": [
        "# 예제 16\n",
        "\n",
        "snack = [\"새우깡\",\"감자깡\",\"고구마깡\",\"맛동산\",\"짱구\"]\n",
        "for i in snack :\n",
        "    if i == \"고구마깡\" :\n",
        "         continue\n",
        "    print(i,\" 완전 맛있어요~!\")"
      ]
    },
    {
      "cell_type": "code",
      "execution_count": null,
      "metadata": {
        "id": "slzfzbbjhUcf"
      },
      "outputs": [],
      "source": []
    }
  ],
  "metadata": {
    "kernelspec": {
      "display_name": "Python 3",
      "language": "python",
      "name": "python3"
    },
    "language_info": {
      "codemirror_mode": {
        "name": "ipython",
        "version": 3
      },
      "file_extension": ".py",
      "mimetype": "text/x-python",
      "name": "python",
      "nbconvert_exporter": "python",
      "pygments_lexer": "ipython3",
      "version": "3.5.4"
    },
    "colab": {
      "provenance": [],
      "include_colab_link": true
    }
  },
  "nbformat": 4,
  "nbformat_minor": 0
}