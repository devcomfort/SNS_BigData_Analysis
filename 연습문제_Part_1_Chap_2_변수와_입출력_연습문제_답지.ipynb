{
  "cells": [
    {
      "cell_type": "markdown",
      "metadata": {
        "id": "view-in-github",
        "colab_type": "text"
      },
      "source": [
        "<a href=\"https://colab.research.google.com/github/smpark85/SNS_BigData_Analysis/blob/main/%EC%97%B0%EC%8A%B5%EB%AC%B8%EC%A0%9C_Part_1_Chap_2_%EB%B3%80%EC%88%98%EC%99%80_%EC%9E%85%EC%B6%9C%EB%A0%A5_%EC%97%B0%EC%8A%B5%EB%AC%B8%EC%A0%9C_%EB%8B%B5%EC%A7%80.ipynb\" target=\"_parent\"><img src=\"https://colab.research.google.com/assets/colab-badge.svg\" alt=\"Open In Colab\"/></a>"
      ]
    },
    {
      "cell_type": "code",
      "execution_count": null,
      "metadata": {
        "id": "SkngBKQrL4fP",
        "outputId": "affc5d3a-cb70-4f0c-e864-84a2cfa39f91"
      },
      "outputs": [
        {
          "name": "stdout",
          "output_type": "stream",
          "text": [
            "첫번째 주문하실 음식은 무엇인가요?: 짜장면\n",
            "두번째 주문하실 음식은 무엇인가요?: 짬뽕\n",
            "\n",
            "\n",
            "첫번째 주문하신 음식은 짜장면이고 두번째 주문하신 음식은 짬뽕입니다\n"
          ]
        }
      ],
      "source": [
        "# 연습문제 1번\n",
        "\n",
        "f_menu = input(\"첫번째 주문하실 음식은 무엇인가요?: \")\n",
        "s_menu = input(\"두번째 주문하실 음식은 무엇인가요?: \")\n",
        "print(\"\\n\")\n",
        "print(\"첫번째 주문하신 음식은 %s이고 두번째 주문하신 음식은 %s입니다\" %(f_menu , s_menu))    "
      ]
    },
    {
      "cell_type": "code",
      "execution_count": null,
      "metadata": {
        "id": "_ne56VFoL4fT",
        "outputId": "64d5d0cf-4678-4e7c-f31f-93dba349ca09"
      },
      "outputs": [
        {
          "name": "stdout",
          "output_type": "stream",
          "text": [
            "\n",
            "1.짜장면       2.울면        3.짬뽕       4.깐풍기          5.칠리새우\n",
            "\n",
            "1.위 메뉴 중 주문할 메뉴의 번호를 입력하세요: 2\n",
            "2.위 메뉴의 주문 수량을 입력하세요:  3\n",
            "\n",
            "\n",
            "주문하신 메뉴 번호는 2 이고 주문 수량은 3 개 입니다\n"
          ]
        }
      ],
      "source": [
        "# 연습문제 2번\n",
        "menu = input('''\n",
        "1.짜장면       2.울면        3.짬뽕       4.깐풍기          5.칠리새우\n",
        "\n",
        "1.위 메뉴 중 주문할 메뉴의 번호를 입력하세요: ''')\n",
        "\n",
        "count = input(\"2.위 메뉴의 주문 수량을 입력하세요:  \")\n",
        "print(\"\\n\")\n",
        "\n",
        "print(\"주문하신 메뉴 번호는 %s 이고 주문 수량은 %s 개 입니다\" %(menu,count))"
      ]
    }
  ],
  "metadata": {
    "kernelspec": {
      "display_name": "Python 3",
      "language": "python",
      "name": "python3"
    },
    "language_info": {
      "codemirror_mode": {
        "name": "ipython",
        "version": 3
      },
      "file_extension": ".py",
      "mimetype": "text/x-python",
      "name": "python",
      "nbconvert_exporter": "python",
      "pygments_lexer": "ipython3",
      "version": "3.5.4"
    },
    "colab": {
      "provenance": [],
      "include_colab_link": true
    }
  },
  "nbformat": 4,
  "nbformat_minor": 0
}